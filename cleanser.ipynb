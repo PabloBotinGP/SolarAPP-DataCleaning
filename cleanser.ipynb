{
 "cells": [
  {
   "cell_type": "code",
   "execution_count": 1,
   "metadata": {},
   "outputs": [],
   "source": [
    "import pandas as pd\n",
    "import numpy as np\n",
    "import os \n",
    "import sys\n",
    "# Import the mapping lists\n",
    "sys.path.append('/Users/pbotin/Documents/SolarAPP/Scripts/DataCleaningProject') # Modify this path according to where is the mappings.py script. \n",
    "import utils"
   ]
  },
  {
   "cell_type": "code",
   "execution_count": 2,
   "metadata": {},
   "outputs": [
    {
     "ename": "FileNotFoundError",
     "evalue": "[Errno 2] No such file or directory: 'raw'",
     "output_type": "error",
     "traceback": [
      "\u001b[0;31m---------------------------------------------------------------------------\u001b[0m",
      "\u001b[0;31mFileNotFoundError\u001b[0m                         Traceback (most recent call last)",
      "Cell \u001b[0;32mIn[2], line 2\u001b[0m\n\u001b[1;32m      1\u001b[0m \u001b[38;5;66;03m# LOAD DATA  \u001b[39;00m\n\u001b[0;32m----> 2\u001b[0m files \u001b[38;5;241m=\u001b[39m utils\u001b[38;5;241m.\u001b[39mget_file_list(\u001b[38;5;124m'\u001b[39m\u001b[38;5;124mraw\u001b[39m\u001b[38;5;124m'\u001b[39m)\n\u001b[1;32m      3\u001b[0m df \u001b[38;5;241m=\u001b[39m utils\u001b[38;5;241m.\u001b[39mload_files(files)\n",
      "File \u001b[0;32m~/Documents/SolarAPP/Scripts/DataCleaningProject/utils.py:342\u001b[0m, in \u001b[0;36mget_file_list\u001b[0;34m(folder, extensions)\u001b[0m\n\u001b[1;32m    328\u001b[0m \u001b[39mdef\u001b[39;00m \u001b[39mget_file_list\u001b[39m(folder\u001b[39m=\u001b[39m\u001b[39m'\u001b[39m\u001b[39mraw\u001b[39m\u001b[39m'\u001b[39m, extensions\u001b[39m=\u001b[39m(\u001b[39m'\u001b[39m\u001b[39mxlsx\u001b[39m\u001b[39m'\u001b[39m, \u001b[39m'\u001b[39m\u001b[39mcsv\u001b[39m\u001b[39m'\u001b[39m)):\n\u001b[1;32m    330\u001b[0m \u001b[39m    \u001b[39m\u001b[39m\"\"\"\u001b[39;00m\n\u001b[1;32m    331\u001b[0m \u001b[39m    Returns a list of file paths in the given folder that match the provided extensions.\u001b[39;00m\n\u001b[1;32m    332\u001b[0m \u001b[39m    \u001b[39;00m\n\u001b[0;32m   (...)\u001b[0m\n\u001b[1;32m    338\u001b[0m \u001b[39m        list of str: Full paths to matching files.\u001b[39;00m\n\u001b[1;32m    339\u001b[0m \u001b[39m    \"\"\"\u001b[39;00m\n\u001b[1;32m    340\u001b[0m     \u001b[39mreturn\u001b[39;00m [\n\u001b[1;32m    341\u001b[0m         os\u001b[39m.\u001b[39mpath\u001b[39m.\u001b[39mjoin(folder, file)\n\u001b[0;32m--> 342\u001b[0m         \u001b[39mfor\u001b[39;00m file \u001b[39min\u001b[39;00m os\u001b[39m.\u001b[39mlistdir(folder)\n\u001b[1;32m    343\u001b[0m         \u001b[39mif\u001b[39;00m file\u001b[39m.\u001b[39mlower()\u001b[39m.\u001b[39mendswith(extensions)\n\u001b[1;32m    344\u001b[0m     ]\n",
      "\u001b[0;31mFileNotFoundError\u001b[0m: [Errno 2] No such file or directory: 'raw'"
     ]
    }
   ],
   "source": [
    "# LOAD DATA  \n",
    "files = utils.get_file_list('raw')\n",
    "df = utils.load_files(files)"
   ]
  },
  {
   "cell_type": "code",
   "execution_count": null,
   "metadata": {},
   "outputs": [],
   "source": [
    "# Filter by col value. \n",
    "#df = utils.filter(df, 'Inspection Type', ['Solar Final', 'Solar Rough'])  # multiple values"
   ]
  },
  {
   "cell_type": "code",
   "execution_count": null,
   "metadata": {},
   "outputs": [],
   "source": [
    "#df['col'].unique()"
   ]
  },
  {
   "cell_type": "code",
   "execution_count": null,
   "metadata": {},
   "outputs": [],
   "source": [
    "print(df.columns.tolist())"
   ]
  },
  {
   "cell_type": "code",
   "execution_count": null,
   "metadata": {},
   "outputs": [],
   "source": [
    "# Rename columns (adjust manually)\n",
    "\n",
    "column_mapping = {\n",
    "    # \"Job_Description\": \"DESCRIPTION\",\n",
    "    # # \"\": \"solarAPP_or_traditional\",\n",
    "    # # \"\": \"AHJ\",\n",
    "    # \"Permit_ID\": \"permit_ID\",\n",
    "    # \"SolarAPP_ID\": \"solarAPP_ID\",\n",
    "    # \"Site_Address\": \"address\",\n",
    "    # # \"Proj_Type\": \"project_type\",\n",
    "    # \"Status\": \"permit_status\",\n",
    "    # \"Started\": \"permit_submission_date\",\n",
    "    # \"Issued\": \"permit_issuance_date\",\n",
    "    # # \"\": \"inspt_failed_once\",\n",
    "    # \"Insp_Result\": \"inspt_status_last\",\n",
    "    # \"Insp_Date\": \"inspt_date_last\",\n",
    "    # \"Insp_Result_Notes\": \"inspt_notes_last\",\n",
    "    # \"\": \"inspt_date_last\",\n",
    "    # \"\": \"inspt_notes_last\",\n",
    "    # \"\": \"inspt_status_1\",\n",
    "    # \"\": \"inspt_date_1\",\n",
    "    # \"\": \"inspt_notes_1\",\n",
    "    # \"\": \"inspt_status_2\",\n",
    "    # \"\": \"inspt_date_2\",\n",
    "    # \"\": \"inspt_notes_2\",\n",
    "    # \"\": \"inspt_status_3\",\n",
    "    # \"\": \"inspt_date_3\",\n",
    "    # \"\": \"inspt_notes_3\",\n",
    "    # \"\": \"inspt_status_4\",\n",
    "    # \"\": \"inspt_date_4\",\n",
    "    # \"\": \"inspt_notes_4\",\n",
    "    # \"\": \"inspt_status_5\",\n",
    "    # \"\": \"inspt_date_5\",\n",
    "    # \"\": \"inspt_notes_5\",\n",
    "    # \"\": \"inspt_status_6\",\n",
    "    # \"\": \"inspt_date_6\",\n",
    "    # \"\": \"inspt_notes_6\",\n",
    "    # \"\": \"inspt_status_7\",\n",
    "    # \"\": \"inspt_date_7\",\n",
    "    # \"\": \"inspt_notes_7\",\n",
    "    # \"\": \"inspt_status_8\",\n",
    "    # \"\": \"inspt_date_8\",\n",
    "    # \"\": \"inspt_notes_8\",\n",
    "    # \"\": \"inspt_status_9\",\n",
    "    # \"\": \"inspt_date_9\",\n",
    "    # \"\": \"inspt_notes_9\",\n",
    "    # \"\": \"inspt_status_10\",\n",
    "    # \"\": \"inspt_date_10\",\n",
    "    # \"\": \"inspt_notes_10\"\n",
    "}\n",
    "# Rename columns \n",
    "df = df.rename(columns=column_mapping)\n",
    "\n",
    "print ('✅ Columns have been renamed. Here is the new header:')\n",
    "print(df.columns.tolist())"
   ]
  },
  {
   "cell_type": "code",
   "execution_count": null,
   "metadata": {},
   "outputs": [],
   "source": [
    "# solarAPP_or_traditional\n",
    "df = utils.assign_solarAPP_or_traditional(df)\n",
    "\n",
    "# AHJ. Use the name of the folder to set the AHJ. \n",
    "df = utils.assign_AHJ(df)\n",
    "\n",
    "# project type. \n",
    "df = utils.assign_project_type(df)\n",
    "\n",
    "# Inspection statuses standarization\n",
    "df = utils.map_inspection_status(df)\n",
    "\n",
    "# last inspection info \n",
    "df = utils.assign_last_inspection_fields(df)\n",
    "\n",
    "# Final standarization and save into Clean.xlsx\n",
    "df = utils.standardize_format(df)\n",
    "\n",
    "# Standarize permit status.\n",
    "df = utils.assign_permit_status(df)\n",
    "\n",
    "# Add inspection summary column\n",
    "df = utils.add_inspt_failed_once_column(df)\n",
    "\n",
    "# Merge inspections\n",
    "df = utils.Do_Merge_Inspections(df)\n",
    "\n",
    "# Save \n",
    "utils.final_save(df)\n"
   ]
  },
  {
   "cell_type": "code",
   "execution_count": null,
   "metadata": {},
   "outputs": [],
   "source": [
    "# # Once verified everything is correct.. \n",
    "# # Save with name of the AHJ in the final folder. \n",
    "\n",
    "# # Open Clean.xlsx\n",
    "# df = pd.read_excel('Clean.xlsx')\n",
    "\n",
    "# Get the name of the current working directory\n",
    "# current_folder_name = os.path.basename(os.getcwd())\n",
    "\n",
    "# # Define the fixed save directory\n",
    "# save_directory = '/Users/pbotin/Documents/SolarAPP/Clean/ahjs_final/'\n",
    "\n",
    "# # Build the full save path\n",
    "# output_path = os.path.join(save_directory, f\"{current_folder_name}.csv\")\n",
    "\n",
    "# # Save\n",
    "# df.to_csv(output_path, index=False)\n",
    "\n",
    "# print(f\"✅ File saved as: {output_path}\")\n"
   ]
  }
 ],
 "metadata": {
  "kernelspec": {
   "display_name": "Python 3.12.4 ('base')",
   "language": "python",
   "name": "python3"
  },
  "language_info": {
   "codemirror_mode": {
    "name": "ipython",
    "version": 3
   },
   "file_extension": ".py",
   "mimetype": "text/x-python",
   "name": "python",
   "nbconvert_exporter": "python",
   "pygments_lexer": "ipython3",
   "version": "3.12.4"
  },
  "orig_nbformat": 4,
  "vscode": {
   "interpreter": {
    "hash": "9532e42613248e3bea74a451200a3a73d234b77f0e55931a71c29d0623a5ca48"
   }
  }
 },
 "nbformat": 4,
 "nbformat_minor": 2
}
